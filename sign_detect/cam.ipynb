{
 "cells": [
  {
   "cell_type": "code",
   "execution_count": null,
   "metadata": {},
   "outputs": [],
   "source": [
    "import cv2\n",
    "url = 'https://10.128.137.178:8080'\n",
    "\n",
    "# Capture a frame from the webpage\n",
    "response = browsing.browse(query=\"Get a screenshot of this webpage\", url=url)\n",
    "# Check if browsing tool was able to capture the webpage\n",
    "if response.startswith(\"I'm sorry\"):\n",
    "  print(response)\n",
    "else:\n",
    "  # Decode the image from the response\n",
    "  image_bytes = base64.b64decode(response)\n",
    "  # Convert the image bytes to a NumPy array\n",
    "  image_array = cv2.imdecode(np.frombuffer(image_bytes, np.uint8), cv2.IMREAD_COLOR)\n",
    "\n",
    "  # Process the image using OpenCV\n",
    "  # (You can write your OpenCV processing code here)\n",
    "\n",
    "  # Display the processed image\n",
    "  cv2.imshow('Live Camera Stream', image_array)\n",
    "  cv2.waitKey(0)\n",
    "  cv2.destroyAllWindows()"
   ]
  }
 ],
 "metadata": {
  "language_info": {
   "name": "python"
  }
 },
 "nbformat": 4,
 "nbformat_minor": 2
}
