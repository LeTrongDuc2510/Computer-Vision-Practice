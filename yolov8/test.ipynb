{
 "cells": [
  {
   "cell_type": "code",
   "execution_count": 1,
   "metadata": {},
   "outputs": [],
   "source": [
    "import cv2"
   ]
  },
  {
   "cell_type": "code",
   "execution_count": 2,
   "metadata": {},
   "outputs": [],
   "source": [
    "def resize_and_crop(image):\n",
    "  # Resize the image to 640x480 (aspect ratio might be distorted)\n",
    "  resized_image = cv2.resize(image, (640, 480))\n",
    "  return resized_image"
   ]
  },
  {
   "cell_type": "code",
   "execution_count": 37,
   "metadata": {},
   "outputs": [],
   "source": [
    "def resize_keeping_aspect_ratio(image, target_width, target_height):\n",
    "  \"\"\"\n",
    "  Resizes an image to the specified target dimensions while maintaining its aspect ratio.\n",
    "\n",
    "  Args:\n",
    "      image: The original image as a NumPy array.\n",
    "      target_width: The desired width of the resized image.\n",
    "      target_height: The desired height of the resized image.\n",
    "\n",
    "  Returns:\n",
    "      A resized image as a NumPy array.\n",
    "  \"\"\"\n",
    "\n",
    "  # # Get the original image shape\n",
    "  # height, width, channels = image.shape\n",
    "\n",
    "  # # Calculate the scale factor based on the target dimensions and aspect ratio\n",
    "  # scale_x = target_width / width\n",
    "  # scale_y = target_height / height\n",
    "\n",
    "  # # Determine the scale factor that preserves the aspect ratio\n",
    "  # scale = max(scale_x, scale_y) # 640\n",
    "\n",
    "  # # Calculate the new image dimensions based on the scale factor\n",
    "  # new_width = int(width * scale)\n",
    "  # new_height = int(height * scale)\n",
    "\n",
    "  # # Define the top and left padding for the resized image (optional)\n",
    "  # top_pad = (target_height - new_height) // 2\n",
    "  # left_pad = (target_width - new_width) // 2\n",
    "\n",
    "  # resized_image = cv2.resize(image, (new_width, new_height))\n",
    "  resized_image = cv2.resize(image, (640, 640))\n",
    "\n",
    "#   padding_values = (0,0,0)\n",
    "  # Add padding if necessary to match target dimensions (optional)\n",
    "#   if top_pad > 0 or left_pad > 0:\n",
    "#     padding_values = (0,0,0)  # Pad with black pixels (adjust for color images)\n",
    "#     padded_image = cv2.copyMakeBorder(resized_image, top_pad, top_pad, left_pad, left_pad, cv2.BORDER_CONSTANT, value=padding_values)\n",
    "#   else:\n",
    "#     padded_image = resized_image\n",
    "\n",
    "\n",
    "  # Calculate the starting coordinates for extracting the central region\n",
    "  # y_start = (1000 - target_height) // 2  # Center the crop vertically\n",
    "  # x_start = (2560 - target_width) // 2  # Center the crop horizontally\n",
    "\n",
    "  # Extract the central region (640 - 480) / 2 = 80\n",
    "  cropped_image = resized_image[80 : 80 + 480, 0:640]\n",
    "\n",
    "\n",
    "  return cropped_image"
   ]
  },
  {
   "cell_type": "code",
   "execution_count": 38,
   "metadata": {},
   "outputs": [
    {
     "name": "stdout",
     "output_type": "stream",
     "text": [
      "Resolution: 640 x 480 pixels\n"
     ]
    }
   ],
   "source": [
    "# path = 'yolo_data/test/vid_4_9640.jpg'\n",
    "path = 'sign.jpg'\n",
    "# path = 'te'\n",
    "img = cv2.imread(path)\n",
    "if img is not None:\n",
    "    resize_img = resize_keeping_aspect_ratio(img,640, 480)\n",
    "\n",
    "    img_shape = resize_img.shape\n",
    "    height, width, channels = img_shape\n",
    "    # img = cv2.cvtColor(img, cv2.COLOR_BGR2RGB)\n",
    "    # # Print resolution (in pixels)\n",
    "    print(f\"Resolution: {width} x {height} pixels\")\n",
    "\n",
    "    cv2.imshow(\"Image\",resize_img)\n",
    "    cv2.waitKey(0)\n",
    "    cv2.destroyAllWindows()\n",
    "else:\n",
    "    print(\"Error: Could not read the image.\")\n",
    "\n",
    "# need 640x480"
   ]
  },
  {
   "cell_type": "code",
   "execution_count": null,
   "metadata": {},
   "outputs": [],
   "source": []
  }
 ],
 "metadata": {
  "kernelspec": {
   "display_name": "virEnv",
   "language": "python",
   "name": "python3"
  },
  "language_info": {
   "codemirror_mode": {
    "name": "ipython",
    "version": 3
   },
   "file_extension": ".py",
   "mimetype": "text/x-python",
   "name": "python",
   "nbconvert_exporter": "python",
   "pygments_lexer": "ipython3",
   "version": "3.10.4"
  }
 },
 "nbformat": 4,
 "nbformat_minor": 2
}
