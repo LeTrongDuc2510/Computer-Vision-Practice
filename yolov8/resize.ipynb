{
 "cells": [
  {
   "cell_type": "code",
   "execution_count": 3,
   "metadata": {},
   "outputs": [],
   "source": [
    "import cv2"
   ]
  },
  {
   "cell_type": "code",
   "execution_count": 6,
   "metadata": {},
   "outputs": [
    {
     "name": "stdout",
     "output_type": "stream",
     "text": [
      "Resolution: 640 x 480 pixels\n"
     ]
    }
   ],
   "source": [
    "path = 'sign.jpg'\n",
    "# path = 'te'\n",
    "img = cv2.imread(path)\n",
    "if img is not None:\n",
    "    resize_img = cv2.resize(img, (640, 640))\n",
    "    cropped_image = resize_img[80 : 80 + 480, 0:640]\n",
    "\n",
    "    img_shape = cropped_image .shape\n",
    "    height, width, channels = img_shape\n",
    "    # img = cv2.cvtColor(img, cv2.COLOR_BGR2RGB)\n",
    "    # # Print resolution (in pixels)\n",
    "    print(f\"Resolution: {width} x {height} pixels\")\n",
    "    cv2.imwrite('crop.jpg', cropped_image)\n",
    "    # cv2.imshow(\"Image\",cropped_image )\n",
    "    # cv2.waitKey(0)\n",
    "    # cv2.destroyAllWindows()\n",
    "else:\n",
    "    print(\"Error: Could not read the image.\")"
   ]
  }
 ],
 "metadata": {
  "kernelspec": {
   "display_name": "virEnv",
   "language": "python",
   "name": "python3"
  },
  "language_info": {
   "codemirror_mode": {
    "name": "ipython",
    "version": 3
   },
   "file_extension": ".py",
   "mimetype": "text/x-python",
   "name": "python",
   "nbconvert_exporter": "python",
   "pygments_lexer": "ipython3",
   "version": "3.10.4"
  }
 },
 "nbformat": 4,
 "nbformat_minor": 2
}
